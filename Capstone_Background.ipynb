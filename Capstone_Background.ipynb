{
    "cells": [
        {
            "metadata": {
                "collapsed": true
            },
            "cell_type": "markdown",
            "source": "# COVID-19 Recovery Opportunity for Premium Travel Company"
        },
        {
            "metadata": {},
            "cell_type": "markdown",
            "source": "### Introduction/Business Problem"
        },
        {
            "metadata": {},
            "cell_type": "markdown",
            "source": "Due to the outbreak of COVID19, tourism have been hit badly. Travel agents start laying off staff, and closing down stores. Some legacy travel-related companies go into liquidation. With the measures taken to alleviate COVID19, the number of infected cases has been declining and into a more controllable rate.\n\nThis report is to study the top destination that is not prone to COVID-19, while travel agents can promote premium travel package. These are also good places for travelling once the governments relax the restrictions or requirements on travelling.\n\nPremium travel agents which aim to re-start their business once the governments relax the restrictions or requirements on travelling, by providing the insights of country that is low risk to COVID-19, and the best resort for vacation. Some tips for promotion the packages will also be provided by leveraging on Foursquare and Folium Map."
        },
        {
            "metadata": {},
            "cell_type": "markdown",
            "source": "The report is available on IBM Watson Studio and Github for Applied Data Science. "
        }
    ],
    "metadata": {
        "kernelspec": {
            "name": "python3",
            "display_name": "Python 3.6",
            "language": "python"
        },
        "language_info": {
            "name": "python",
            "version": "3.6.9",
            "mimetype": "text/x-python",
            "codemirror_mode": {
                "name": "ipython",
                "version": 3
            },
            "pygments_lexer": "ipython3",
            "nbconvert_exporter": "python",
            "file_extension": ".py"
        }
    },
    "nbformat": 4,
    "nbformat_minor": 1
}