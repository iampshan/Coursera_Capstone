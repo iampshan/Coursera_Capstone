{
    "cells": [
        {
            "metadata": {
                "collapsed": true
            },
            "cell_type": "markdown",
            "source": "# COVID-19 Recovery Opportunity for Premium Travel Company"
        },
        {
            "metadata": {},
            "cell_type": "markdown",
            "source": "### Data"
        },
        {
            "metadata": {},
            "cell_type": "markdown",
            "source": "#### 2.1. Main data"
        },
        {
            "metadata": {},
            "cell_type": "markdown",
            "source": "Main data is sourced from COVID-19 Dataset provided by Devakamar Kp  on Kaggle (https://www.kaggle.com/imdevskp/corona-virus-report), extracted on 11th June, 2020. The data covers number of confirmed, death and recovered cases in all countries and regions and updated on a daily basis. \n\nThis provides the number of confirmed cases in each country, which allow us to identify Countries that having low risk to the outbreak of COVID-19 based.\n\nThe data is reviewed and processed during the study to standardize the dataset and clean unnecessary data.\n"
        },
        {
            "metadata": {},
            "cell_type": "markdown",
            "source": "#### 2.2.  Supplementary data"
        },
        {
            "metadata": {},
            "cell_type": "markdown",
            "source": "Supplementary data is sourced from Latitude and Longitude for Every Country and State published by Paul Mooney on Kaggle (https://www.kaggle.com/paultimothymooney/latitude-and-longitude-for-every-country-and-state). Locational data for country is available in the dataset. \n\nThis data is to supplement the primary data for looking up the information on Foursquare API (https://developer.foursquare.com). Foursquare API offers information of resorts on the selected \nCountries, and the insights of the best resorts based on the users\u2019 comments and its proximity to other trending spots.\n\nThe information provided by Foursquare API enables us to select the resorts with the best service quality in the region for partnership opportunity for premium travel packages.  \n\n"
        },
        {
            "metadata": {},
            "cell_type": "markdown",
            "source": "The report is available on IBM Watson Studio and Github for Applied Data Science. "
        }
    ],
    "metadata": {
        "kernelspec": {
            "name": "python3",
            "display_name": "Python 3.6",
            "language": "python"
        },
        "language_info": {
            "name": "python",
            "version": "3.6.9",
            "mimetype": "text/x-python",
            "codemirror_mode": {
                "name": "ipython",
                "version": 3
            },
            "pygments_lexer": "ipython3",
            "nbconvert_exporter": "python",
            "file_extension": ".py"
        }
    },
    "nbformat": 4,
    "nbformat_minor": 1
}